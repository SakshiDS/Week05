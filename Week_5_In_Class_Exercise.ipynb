{
 "cells": [
  {
   "cell_type": "markdown",
   "id": "d0784b4d",
   "metadata": {},
   "source": [
    "# APIs"
   ]
  },
  {
   "cell_type": "code",
   "execution_count": 1,
   "id": "208519e0",
   "metadata": {},
   "outputs": [],
   "source": [
    "from api_keys import api_key\n",
    "\n",
    "# import variable from file. It assumes it is a py file"
   ]
  },
  {
   "cell_type": "code",
   "execution_count": 2,
   "id": "67e7c311",
   "metadata": {},
   "outputs": [],
   "source": [
    "import requests\n",
    "import pandas as pd"
   ]
  },
  {
   "cell_type": "code",
   "execution_count": 3,
   "id": "4710d42b",
   "metadata": {},
   "outputs": [
    {
     "name": "stdout",
     "output_type": "stream",
     "text": [
      "<!doctype html>\n",
      "<html>\n",
      "<head>\n",
      "    <title>Example Domain</title>\n",
      "\n",
      "    <meta charset=\"utf-8\" />\n",
      "    <meta http-equiv=\"Content-type\" content=\"text/html; charset=utf-8\" />\n",
      "    <meta name=\"viewport\" content=\"width=device-width, initial-scale=1\" />\n",
      "    <style type=\"text/css\">\n",
      "    body {\n",
      "        background-color: #f0f0f2;\n",
      "        margin: 0;\n",
      "        padding: 0;\n",
      "        font-family: -apple-system, system-ui, BlinkMacSystemFont, \"Segoe UI\", \"Open Sans\", \"Helvetica Neue\", Helvetica, Arial, sans-serif;\n",
      "        \n",
      "    }\n",
      "    div {\n",
      "        width: 600px;\n",
      "        margin: 5em auto;\n",
      "        padding: 2em;\n",
      "        background-color: #fdfdff;\n",
      "        border-radius: 0.5em;\n",
      "        box-shadow: 2px 3px 7px 2px rgba(0,0,0,0.02);\n",
      "    }\n",
      "    a:link, a:visited {\n",
      "        color: #38488f;\n",
      "        text-decoration: none;\n",
      "    }\n",
      "    @media (max-width: 700px) {\n",
      "        div {\n",
      "            margin: 0 auto;\n",
      "            width: auto;\n",
      "        }\n",
      "    }\n",
      "    </style>    \n",
      "</head>\n",
      "\n",
      "<body>\n",
      "<div>\n",
      "    <h1>Example Domain</h1>\n",
      "    <p>This domain is for use in illustrative examples in documents. You may use this\n",
      "    domain in literature without prior coordination or asking for permission.</p>\n",
      "    <p><a href=\"https://www.iana.org/domains/example\">More information...</a></p>\n",
      "</div>\n",
      "</body>\n",
      "</html>\n",
      "\n"
     ]
    }
   ],
   "source": [
    "url = \"http://www.example.com\"\n",
    "\n",
    "req = requests.get(url)\n",
    "\n",
    "print(req.text)"
   ]
  },
  {
   "cell_type": "code",
   "execution_count": 5,
   "id": "c824950b",
   "metadata": {},
   "outputs": [
    {
     "name": "stdout",
     "output_type": "stream",
     "text": [
      "{'coord': {'lon': -77.5997, 'lat': 37.3835}, 'weather': [{'id': 801, 'main': 'Clouds', 'description': 'few clouds', 'icon': '02d'}], 'base': 'stations', 'main': {'temp': 74.05, 'feels_like': 73.27, 'temp_min': 71.2, 'temp_max': 77.07, 'pressure': 1023, 'humidity': 45}, 'visibility': 10000, 'wind': {'speed': 1.01, 'deg': 301, 'gust': 4}, 'clouds': {'all': 14}, 'dt': 1634750393, 'sys': {'type': 2, 'id': 2007929, 'country': 'US', 'sunrise': 1634728992, 'sunset': 1634768804}, 'timezone': -14400, 'id': 4752255, 'name': 'Chesterfield', 'cod': 200}\n"
     ]
    }
   ],
   "source": [
    "base_url = \"http://api.openweathermap.org/data/2.5/weather?units=Imperial&APPID=\" + api_key\n",
    "city = 'chesterfield'\n",
    "\n",
    "#q represents the city\n",
    "req = requests.get(base_url + f'&q={city}')\n",
    "                   \n",
    "# create a json output of the data\n",
    "                   \n",
    "json_data = req.json()\n",
    "print(json_data)"
   ]
  },
  {
   "cell_type": "code",
   "execution_count": 5,
   "id": "1453a60e",
   "metadata": {},
   "outputs": [
    {
     "name": "stdout",
     "output_type": "stream",
     "text": [
      "{'temp': 58.01, 'feels_like': 56.71, 'temp_min': 53.62, 'temp_max': 63.09, 'pressure': 1017, 'humidity': 68}\n"
     ]
    }
   ],
   "source": [
    "main = json_data['main']\n",
    "\n",
    "print(main)"
   ]
  },
  {
   "cell_type": "code",
   "execution_count": 6,
   "id": "25ac1a4b",
   "metadata": {},
   "outputs": [
    {
     "name": "stdout",
     "output_type": "stream",
     "text": [
      "{'lon': -77.5997, 'lat': 37.3835}\n"
     ]
    }
   ],
   "source": [
    "coord = json_data['coord']\n",
    "\n",
    "print(coord)"
   ]
  },
  {
   "cell_type": "code",
   "execution_count": 7,
   "id": "0d417986",
   "metadata": {},
   "outputs": [
    {
     "data": {
      "text/plain": [
       "'broken clouds'"
      ]
     },
     "execution_count": 7,
     "metadata": {},
     "output_type": "execute_result"
    }
   ],
   "source": [
    "json_data['weather'][0]['description']"
   ]
  },
  {
   "cell_type": "code",
   "execution_count": 8,
   "id": "38067952",
   "metadata": {},
   "outputs": [
    {
     "data": {
      "text/plain": [
       "{'city': ['Denver', 'St Louis', 'Phoenix'],\n",
       " 'humidity': [16, 47, 17],\n",
       " 'pressure': [1011, 1022, 1010]}"
      ]
     },
     "execution_count": 8,
     "metadata": {},
     "output_type": "execute_result"
    }
   ],
   "source": [
    "citites_list = ['denver','st louis','phoenix']\n",
    "\n",
    "city_weather = {'city':[],\n",
    "               'humidity':[],\n",
    "               'pressure':[]}\n",
    "\n",
    "\n",
    "for city in citites_list:\n",
    "    base_url = \"http://api.openweathermap.org/data/2.5/weather?units=Imperial&APPID=\" + api_key\n",
    "    \n",
    "    try:\n",
    "        \n",
    "        req = requests.get(base_url + f'&q={city}')\n",
    "        \n",
    "        data = req.json()\n",
    "        \n",
    "        city_weather['city'].append(data['name'])\n",
    "        city_weather['humidity'].append(data['main']['humidity'])\n",
    "        city_weather['pressure'].append(data['main']['pressure'])\n",
    "        \n",
    "    except:\n",
    "        print(city+ \" not found\")\n",
    "        pass\n",
    "\n",
    "\n",
    "city_weather"
   ]
  },
  {
   "cell_type": "code",
   "execution_count": 22,
   "id": "6c33fe60",
   "metadata": {},
   "outputs": [
    {
     "data": {
      "text/html": [
       "<div>\n",
       "<style scoped>\n",
       "    .dataframe tbody tr th:only-of-type {\n",
       "        vertical-align: middle;\n",
       "    }\n",
       "\n",
       "    .dataframe tbody tr th {\n",
       "        vertical-align: top;\n",
       "    }\n",
       "\n",
       "    .dataframe thead th {\n",
       "        text-align: right;\n",
       "    }\n",
       "</style>\n",
       "<table border=\"1\" class=\"dataframe\">\n",
       "  <thead>\n",
       "    <tr style=\"text-align: right;\">\n",
       "      <th></th>\n",
       "      <th>city</th>\n",
       "      <th>humidity</th>\n",
       "      <th>pressure</th>\n",
       "    </tr>\n",
       "  </thead>\n",
       "  <tbody>\n",
       "    <tr>\n",
       "      <th>0</th>\n",
       "      <td>Denver</td>\n",
       "      <td>29</td>\n",
       "      <td>1006</td>\n",
       "    </tr>\n",
       "    <tr>\n",
       "      <th>1</th>\n",
       "      <td>St Louis</td>\n",
       "      <td>74</td>\n",
       "      <td>1011</td>\n",
       "    </tr>\n",
       "    <tr>\n",
       "      <th>2</th>\n",
       "      <td>Phoenix</td>\n",
       "      <td>22</td>\n",
       "      <td>1008</td>\n",
       "    </tr>\n",
       "  </tbody>\n",
       "</table>\n",
       "</div>"
      ],
      "text/plain": [
       "       city  humidity  pressure\n",
       "0    Denver        29      1006\n",
       "1  St Louis        74      1011\n",
       "2   Phoenix        22      1008"
      ]
     },
     "execution_count": 22,
     "metadata": {},
     "output_type": "execute_result"
    }
   ],
   "source": [
    "weather_df = pd.DataFrame(city_weather)\n",
    "weather_df"
   ]
  },
  {
   "cell_type": "code",
   "execution_count": null,
   "id": "89a5d764",
   "metadata": {},
   "outputs": [],
   "source": []
  }
 ],
 "metadata": {
  "kernelspec": {
   "display_name": "Python 3 (ipykernel)",
   "language": "python",
   "name": "python3"
  },
  "language_info": {
   "codemirror_mode": {
    "name": "ipython",
    "version": 3
   },
   "file_extension": ".py",
   "mimetype": "text/x-python",
   "name": "python",
   "nbconvert_exporter": "python",
   "pygments_lexer": "ipython3",
   "version": "3.8.10"
  }
 },
 "nbformat": 4,
 "nbformat_minor": 5
}
