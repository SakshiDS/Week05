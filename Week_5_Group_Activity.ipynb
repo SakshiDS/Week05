{
 "cells": [
  {
   "cell_type": "markdown",
   "id": "7fd0c7f6",
   "metadata": {},
   "source": [
    "1. Make a function that can take any non-negative integer as an argument and return it with its\n",
    "digits in descending order. Essentially, rearrange the digits to create the highest possible\n",
    "number. If no number is passed in, make the default value inputted = 111111.\n",
    "\n",
    "- Input = 43905 Output = 95430\n",
    "- Input = 584366 Output = 866543\n"
   ]
  },
  {
   "cell_type": "code",
   "execution_count": 24,
   "id": "eb816060",
   "metadata": {},
   "outputs": [],
   "source": [
    "def largest_num(input_num):\n",
    "        try:\n",
    "            input_num = str(input_num)\n",
    "\n",
    "            int_list = []\n",
    "            int_list[:0] = input_num\n",
    "\n",
    "            int_list_sort = sorted(int_list, reverse = True)\n",
    "\n",
    "            string = [str(i) for i in int_list_sort]\n",
    "\n",
    "            output = \"\".join(string)\n",
    "\n",
    "            output = int(output)\n",
    "\n",
    "            return output\n",
    "        except:\n",
    "            return 111111"
   ]
  },
  {
   "cell_type": "code",
   "execution_count": 98,
   "id": "7debccae",
   "metadata": {},
   "outputs": [
    {
     "data": {
      "text/plain": [
       "111111"
      ]
     },
     "execution_count": 98,
     "metadata": {},
     "output_type": "execute_result"
    }
   ],
   "source": [
    "largest_num(\"cbg\")"
   ]
  },
  {
   "cell_type": "code",
   "execution_count": 99,
   "id": "51f40594",
   "metadata": {
    "scrolled": true
   },
   "outputs": [
    {
     "data": {
      "text/plain": [
       "95430"
      ]
     },
     "execution_count": 99,
     "metadata": {},
     "output_type": "execute_result"
    }
   ],
   "source": [
    "largest_num(43905)"
   ]
  },
  {
   "cell_type": "code",
   "execution_count": 100,
   "id": "4c992c52",
   "metadata": {},
   "outputs": [
    {
     "data": {
      "text/plain": [
       "866543"
      ]
     },
     "execution_count": 100,
     "metadata": {},
     "output_type": "execute_result"
    }
   ],
   "source": [
    "largest_num(584366)"
   ]
  },
  {
   "cell_type": "markdown",
   "id": "d6ca5112",
   "metadata": {},
   "source": [
    "2. Import jeopardy.csv and create a dataframe from the data. Find out the following:\n",
    "\n",
    "    a. How many rows are there in the dataframe? What does a row represent?\n",
    "    \n",
    "    b. How many unique shows were there each year?\n",
    "    \n",
    "    c. Think of another question that this data can help answer. Make that question a header in your notebook.\n",
    "    \n",
    "    d. Answer your question and show the steps you used to do so clearly."
   ]
  },
  {
   "cell_type": "code",
   "execution_count": 32,
   "id": "177fca5d",
   "metadata": {},
   "outputs": [],
   "source": [
    "import pandas as pd"
   ]
  },
  {
   "cell_type": "code",
   "execution_count": 33,
   "id": "c010507c",
   "metadata": {},
   "outputs": [
    {
     "data": {
      "text/html": [
       "<div>\n",
       "<style scoped>\n",
       "    .dataframe tbody tr th:only-of-type {\n",
       "        vertical-align: middle;\n",
       "    }\n",
       "\n",
       "    .dataframe tbody tr th {\n",
       "        vertical-align: top;\n",
       "    }\n",
       "\n",
       "    .dataframe thead th {\n",
       "        text-align: right;\n",
       "    }\n",
       "</style>\n",
       "<table border=\"1\" class=\"dataframe\">\n",
       "  <thead>\n",
       "    <tr style=\"text-align: right;\">\n",
       "      <th></th>\n",
       "      <th>Show Number</th>\n",
       "      <th>Air Date</th>\n",
       "      <th>Round</th>\n",
       "      <th>Category</th>\n",
       "      <th>Value</th>\n",
       "      <th>Question</th>\n",
       "      <th>Answer</th>\n",
       "    </tr>\n",
       "  </thead>\n",
       "  <tbody>\n",
       "    <tr>\n",
       "      <th>0</th>\n",
       "      <td>4680</td>\n",
       "      <td>12/31/2004</td>\n",
       "      <td>Jeopardy!</td>\n",
       "      <td>HISTORY</td>\n",
       "      <td>$200</td>\n",
       "      <td>For the last 8 years of his life, Galileo was ...</td>\n",
       "      <td>Copernicus</td>\n",
       "    </tr>\n",
       "    <tr>\n",
       "      <th>1</th>\n",
       "      <td>4680</td>\n",
       "      <td>12/31/2004</td>\n",
       "      <td>Jeopardy!</td>\n",
       "      <td>ESPN's TOP 10 ALL-TIME ATHLETES</td>\n",
       "      <td>$200</td>\n",
       "      <td>No. 2: 1912 Olympian; football star at Carlisl...</td>\n",
       "      <td>Jim Thorpe</td>\n",
       "    </tr>\n",
       "    <tr>\n",
       "      <th>2</th>\n",
       "      <td>4680</td>\n",
       "      <td>12/31/2004</td>\n",
       "      <td>Jeopardy!</td>\n",
       "      <td>EVERYBODY TALKS ABOUT IT...</td>\n",
       "      <td>$200</td>\n",
       "      <td>The city of Yuma in this state has a record av...</td>\n",
       "      <td>Arizona</td>\n",
       "    </tr>\n",
       "    <tr>\n",
       "      <th>3</th>\n",
       "      <td>4680</td>\n",
       "      <td>12/31/2004</td>\n",
       "      <td>Jeopardy!</td>\n",
       "      <td>THE COMPANY LINE</td>\n",
       "      <td>$200</td>\n",
       "      <td>In 1963, live on \"The Art Linkletter Show\", th...</td>\n",
       "      <td>McDonald's</td>\n",
       "    </tr>\n",
       "    <tr>\n",
       "      <th>4</th>\n",
       "      <td>4680</td>\n",
       "      <td>12/31/2004</td>\n",
       "      <td>Jeopardy!</td>\n",
       "      <td>EPITAPHS &amp; TRIBUTES</td>\n",
       "      <td>$200</td>\n",
       "      <td>Signer of the Dec. of Indep., framer of the Co...</td>\n",
       "      <td>John Adams</td>\n",
       "    </tr>\n",
       "  </tbody>\n",
       "</table>\n",
       "</div>"
      ],
      "text/plain": [
       "   Show Number    Air Date      Round                         Category  Value  \\\n",
       "0         4680  12/31/2004  Jeopardy!                          HISTORY  $200    \n",
       "1         4680  12/31/2004  Jeopardy!  ESPN's TOP 10 ALL-TIME ATHLETES  $200    \n",
       "2         4680  12/31/2004  Jeopardy!      EVERYBODY TALKS ABOUT IT...  $200    \n",
       "3         4680  12/31/2004  Jeopardy!                 THE COMPANY LINE  $200    \n",
       "4         4680  12/31/2004  Jeopardy!              EPITAPHS & TRIBUTES  $200    \n",
       "\n",
       "                                            Question      Answer  \n",
       "0  For the last 8 years of his life, Galileo was ...  Copernicus  \n",
       "1  No. 2: 1912 Olympian; football star at Carlisl...  Jim Thorpe  \n",
       "2  The city of Yuma in this state has a record av...     Arizona  \n",
       "3  In 1963, live on \"The Art Linkletter Show\", th...  McDonald's  \n",
       "4  Signer of the Dec. of Indep., framer of the Co...  John Adams  "
      ]
     },
     "execution_count": 33,
     "metadata": {},
     "output_type": "execute_result"
    }
   ],
   "source": [
    "jeopardy = pd.read_csv(\"JEOPARDY_CSV.csv\")\n",
    "\n",
    "jeopardy.head()"
   ]
  },
  {
   "cell_type": "markdown",
   "id": "5e7fcaa4",
   "metadata": {},
   "source": [
    "a. How many rows are there in the dataframe? What does a row represent?"
   ]
  },
  {
   "cell_type": "code",
   "execution_count": 34,
   "id": "6b3ebbc1",
   "metadata": {},
   "outputs": [
    {
     "name": "stdout",
     "output_type": "stream",
     "text": [
      "No. of rows in this datafram are : 216930\n",
      "Here rows gives the details of each questions asked in different episodes of Jeopardy\n"
     ]
    }
   ],
   "source": [
    "print(\"No. of rows in this datafram are :\", jeopardy.shape[0])\n",
    "print(\"Here rows gives the details of each questions asked in different episodes of Jeopardy\")"
   ]
  },
  {
   "cell_type": "markdown",
   "id": "ddca7425",
   "metadata": {},
   "source": [
    "b. How many unique shows were there each year?"
   ]
  },
  {
   "cell_type": "code",
   "execution_count": 35,
   "id": "9f2508eb",
   "metadata": {},
   "outputs": [
    {
     "name": "stdout",
     "output_type": "stream",
     "text": [
      "<class 'str'>\n",
      "<class 'pandas._libs.tslibs.timestamps.Timestamp'>\n"
     ]
    }
   ],
   "source": [
    "print(type(jeopardy[\" Air Date\"][0]))\n",
    "\n",
    "jeopardy[\" Air Date\"] = pd.to_datetime(jeopardy[\" Air Date\"])\n",
    "\n",
    "print(type(jeopardy[\" Air Date\"][0]))"
   ]
  },
  {
   "cell_type": "code",
   "execution_count": 97,
   "id": "db7559c5",
   "metadata": {},
   "outputs": [
    {
     "data": {
      "text/html": [
       "<div>\n",
       "<style scoped>\n",
       "    .dataframe tbody tr th:only-of-type {\n",
       "        vertical-align: middle;\n",
       "    }\n",
       "\n",
       "    .dataframe tbody tr th {\n",
       "        vertical-align: top;\n",
       "    }\n",
       "\n",
       "    .dataframe thead th {\n",
       "        text-align: right;\n",
       "    }\n",
       "</style>\n",
       "<table border=\"1\" class=\"dataframe\">\n",
       "  <thead>\n",
       "    <tr style=\"text-align: right;\">\n",
       "      <th></th>\n",
       "      <th>Show Number</th>\n",
       "    </tr>\n",
       "    <tr>\n",
       "      <th>year</th>\n",
       "      <th></th>\n",
       "    </tr>\n",
       "  </thead>\n",
       "  <tbody>\n",
       "    <tr>\n",
       "      <th>1984</th>\n",
       "      <td>23</td>\n",
       "    </tr>\n",
       "    <tr>\n",
       "      <th>1985</th>\n",
       "      <td>16</td>\n",
       "    </tr>\n",
       "    <tr>\n",
       "      <th>1986</th>\n",
       "      <td>25</td>\n",
       "    </tr>\n",
       "    <tr>\n",
       "      <th>1987</th>\n",
       "      <td>22</td>\n",
       "    </tr>\n",
       "    <tr>\n",
       "      <th>1988</th>\n",
       "      <td>22</td>\n",
       "    </tr>\n",
       "    <tr>\n",
       "      <th>1989</th>\n",
       "      <td>36</td>\n",
       "    </tr>\n",
       "    <tr>\n",
       "      <th>1990</th>\n",
       "      <td>73</td>\n",
       "    </tr>\n",
       "    <tr>\n",
       "      <th>1991</th>\n",
       "      <td>24</td>\n",
       "    </tr>\n",
       "    <tr>\n",
       "      <th>1992</th>\n",
       "      <td>32</td>\n",
       "    </tr>\n",
       "    <tr>\n",
       "      <th>1993</th>\n",
       "      <td>35</td>\n",
       "    </tr>\n",
       "  </tbody>\n",
       "</table>\n",
       "</div>"
      ],
      "text/plain": [
       "      Show Number\n",
       "year             \n",
       "1984           23\n",
       "1985           16\n",
       "1986           25\n",
       "1987           22\n",
       "1988           22\n",
       "1989           36\n",
       "1990           73\n",
       "1991           24\n",
       "1992           32\n",
       "1993           35"
      ]
     },
     "execution_count": 97,
     "metadata": {},
     "output_type": "execute_result"
    }
   ],
   "source": [
    "jeopardy[\"year\"] = pd.DatetimeIndex(jeopardy[\" Air Date\"]).year\n",
    "\n",
    "jeopardy_grp_by_year = jeopardy.groupby(\"year\")\n",
    "\n",
    "jeopardy_show_per_year = jeopardy_grp_by_year[[\"Show Number\"]].nunique()\n",
    "\n",
    "jeopardy_show_per_year.head(10)"
   ]
  },
  {
   "cell_type": "markdown",
   "id": "f14db060",
   "metadata": {},
   "source": [
    "c. Think of another question that this data can help answer. Make that question a header in your notebook.\n",
    "\n",
    "d. Answer your question and show the steps you used to do so clearly.\n"
   ]
  },
  {
   "cell_type": "markdown",
   "id": "14113efd",
   "metadata": {},
   "source": [
    "# - How many Question asked in  a show\n",
    "\n",
    "\n",
    "- In total of 6300 unique shows through 1984 to 2012 average question asked were 60"
   ]
  },
  {
   "cell_type": "code",
   "execution_count": 83,
   "id": "8caa278a",
   "metadata": {},
   "outputs": [
    {
     "name": "stdout",
     "output_type": "stream",
     "text": [
      "              Question\n",
      "Show Number           \n",
      "1                   48\n",
      "2                   50\n",
      "3                   51\n",
      "4                   53\n",
      "5                   54\n",
      "Average question per show were :  59.59615384615385\n"
     ]
    }
   ],
   "source": [
    "ques_by_show = jeopardy.groupby([\"Show Number\"])[[\" Question\"]].count()\n",
    "print(ques_by_show.head())\n",
    "print(\"Average question per show were : \",ques_by_show[\" Question\"].mean())"
   ]
  },
  {
   "cell_type": "markdown",
   "id": "d720732a",
   "metadata": {},
   "source": [
    "3. Create any graph using matplotlib that helps you understand the jeopardy data. Explain what\n",
    "your graph shows and why it is useful."
   ]
  },
  {
   "cell_type": "code",
   "execution_count": 95,
   "id": "f42d8e07",
   "metadata": {},
   "outputs": [
    {
     "data": {
      "text/plain": [
       "<AxesSubplot:title={'center':'Shows over the years'}, xlabel='Year', ylabel='No. of Shows'>"
      ]
     },
     "execution_count": 95,
     "metadata": {},
     "output_type": "execute_result"
    },
    {
     "data": {
      "image/png": "[encoded data removed]",
      "text/plain": [
       "<Figure size 432x288 with 1 Axes>"
      ]
     },
     "metadata": {
      "needs_background": "light"
     },
     "output_type": "display_data"
    }
   ],
   "source": [
    "import matplotlib.pyplot as plt \n",
    "\n",
    "\n",
    "jeopardy_show_per_year.plot(kind = 'area', xlabel=\"Year\", ylabel=\"No. of Shows\", title=\"Shows over the years\")"
   ]
  },
  {
   "cell_type": "markdown",
   "id": "f308ada3",
   "metadata": {},
   "source": [
    "Observations from the graph plotted:\n",
    "- Before 1995 the number of show each year were at an average of 25 per year\n",
    "- Post 1995 there was a sudden rise in the jeopardy show through a year, reaching more than 200 shows a year\n",
    "- there was a slight dip in show in the year 2002 and 2003"
   ]
  },
  {
   "cell_type": "code",
   "execution_count": null,
   "id": "b672e43e",
   "metadata": {},
   "outputs": [],
   "source": []
  }
 ],
 "metadata": {
  "kernelspec": {
   "display_name": "Python 3 (ipykernel)",
   "language": "python",
   "name": "python3"
  },
  "language_info": {
   "codemirror_mode": {
    "name": "ipython",
    "version": 3
   },
   "file_extension": ".py",
   "mimetype": "text/x-python",
   "name": "python",
   "nbconvert_exporter": "python",
   "pygments_lexer": "ipython3",
   "version": "3.8.10"
  }
 },
 "nbformat": 4,
 "nbformat_minor": 5
}
